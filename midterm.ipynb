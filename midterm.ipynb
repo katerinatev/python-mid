{
 "cells": [
  {
   "cell_type": "code",
   "execution_count": 1,
   "metadata": {
    "pycharm": {
     "is_executing": false,
     "name": "#%%\n"
    }
   },
   "outputs": [],
   "source": [
    "import requests\n",
    "import pandas as pd\n",
    "from bs4 import BeautifulSoup\n"
   ]
  },
  {
   "cell_type": "code",
   "execution_count": 2,
   "metadata": {
    "pycharm": {
     "is_executing": false,
     "name": "#%%\n"
    }
   },
   "outputs": [],
   "source": [
    "class Character:\n",
    "    \"\"\"\n",
    "    Helper class to hold information about character.\n",
    "    \"\"\"\n",
    "\n",
    "    def __init__(self, url, name, books):\n",
    "        self.url = url\n",
    "        self.name = name\n",
    "        self.books = books"
   ]
  },
  {
   "cell_type": "code",
   "execution_count": 3,
   "metadata": {
    "pycharm": {
     "is_executing": false,
     "name": "#%%\n"
    }
   },
   "outputs": [],
   "source": [
    "class Scraper:\n",
    "    def __init__(self):\n",
    "        self.url = 'http://wiki.lspace.org/mediawiki/List_of_Pratchett_characters'\n",
    "        self.base_url = 'http://wiki.lspace.org'\n",
    "\n",
    "    def make_soup(self, url):\n",
    "        page = requests.get(url)\n",
    "        return BeautifulSoup(page.content, 'html.parser')\n",
    "\n",
    "    def scrap_character_books(self, url):\n",
    "        \"\"\"\n",
    "        Scraps books from character wiki page.\n",
    "        :param url: url to character wiki page \n",
    "        :return: list of names of books for a character.\n",
    "        \"\"\"\n",
    "        character = self.make_soup(url)\n",
    "        books = character.find('a', title='Bibliography').parent.parent.find_next_sibling('td').find_all('a')\n",
    "        books_list = []\n",
    "        for book in books:\n",
    "            # book_url = book.get('href')\n",
    "            book_name = book.get_text()\n",
    "            books_list.append(book_name)\n",
    "        return books_list\n",
    "\n",
    "    def scrap(self):\n",
    "        \"\"\"\n",
    "        Main part of the scraper. \n",
    "        :return: List of Character objects.\n",
    "        \"\"\"\n",
    "        wiki_page = self.make_soup(self.url)\n",
    "        character_list = wiki_page.find('span',\n",
    "                                        id=\"Ankh-Morpork_and_The_Watch\").parent.find_next_sibling('ul').find_all('li')\n",
    "        characters = []\n",
    "        for character in character_list:\n",
    "            char_url = character.a.get('href')\n",
    "            char_name = character.a.get_text()\n",
    "            print(char_name, char_url)\n",
    "            books = self.scrap_character_books(self.base_url + char_url)\n",
    "            characters.append(Character(self.base_url + char_url, char_name, books))\n",
    "        return characters"
   ]
  },
  {
   "cell_type": "code",
   "execution_count": 4,
   "metadata": {
    "pycharm": {
     "is_executing": false,
     "name": "#%%\n"
    }
   },
   "outputs": [],
   "source": [
    "def make_dataframe(characters):\n",
    "    \"\"\"\n",
    "    Construct pandas dataframe from list of Characters\n",
    "    :param characters: list of Characters\n",
    "    :return: pandas dataframe.\n",
    "    \"\"\"\n",
    "    df = pd.DataFrame(columns=['book', 'character_name'])\n",
    "    for character in characters:\n",
    "        books = character.books\n",
    "        for book in books:\n",
    "            df = df.append({'book': book, 'character_name': character.name}, ignore_index=True)\n",
    "    return df\n"
   ]
  },
  {
   "cell_type": "code",
   "execution_count": 5,
   "metadata": {
    "pycharm": {
     "is_executing": false,
     "name": "#%%\n"
    }
   },
   "outputs": [
    {
     "name": "stdout",
     "output_type": "stream",
     "text": [
      "Mrs. Cake /mediawiki/Mrs._Cake\n",
      "Fred Colon /mediawiki/Fred_Colon\n",
      "Mrs. Marietta Cosmopilite /mediawiki/Mrs._Marietta_Cosmopilite\n",
      "Detritus /mediawiki/Detritus\n",
      "Cut-Me-Own-Throat Dibbler /mediawiki/Cut-Me-Own-Throat_Dibbler\n",
      "Dorfl /mediawiki/Dorfl\n",
      "Rufus Drumknott /mediawiki/Rufus_Drumknott\n",
      "Gaspode /mediawiki/Gaspode\n",
      "Carrot Ironfoundersson /mediawiki/Carrot_Ironfoundersson\n",
      "Leonard of Quirm /mediawiki/Leonard_of_Quirm\n",
      "Cheery Littlebottom /mediawiki/Cheery_Littlebottom\n",
      "Nobby Nobbs /mediawiki/Nobby_Nobbs\n",
      "Lady Sybil Ramkin /mediawiki/Lady_Sybil_Ramkin\n",
      "Foul Ole Ron /mediawiki/Foul_Ole_Ron\n",
      "Reg Shoe /mediawiki/Reg_Shoe\n",
      "Mr. Slant /mediawiki/Mr._Slant\n",
      "Angua von Überwald /mediawiki/Angua_von_%C3%9Cberwald\n",
      "Lord Havelock Vetinari /mediawiki/Havelock_Vetinari\n",
      "Samuel Vimes /mediawiki/Samuel_Vimes\n",
      "Visit-the-Infidel-with-Explanatory-Pamphlets /mediawiki/Visit-the-Infidel-with-Explanatory-Pamphlets\n",
      "Willikins /mediawiki/Willikins\n",
      "                   book                                character_name\n",
      "0            Reaper Man                                     Mrs. Cake\n",
      "1           Men at Arms                                     Mrs. Cake\n",
      "2       Guards! Guards!                                    Fred Colon\n",
      "3           Men at Arms                                    Fred Colon\n",
      "4            Soul Music                                    Fred Colon\n",
      "5          Feet of Clay                                    Fred Colon\n",
      "6                 Jingo                                    Fred Colon\n",
      "7    The Fifth Elephant                                    Fred Colon\n",
      "8             The Truth                                    Fred Colon\n",
      "9         The Last Hero                                    Fred Colon\n",
      "10          Night Watch                                    Fred Colon\n",
      "11                Thud!                                    Fred Colon\n",
      "12      Moving Pictures                     Mrs. Marietta Cosmopilite\n",
      "13      Guards! Guards!                                      Detritus\n",
      "14      Moving Pictures                                      Detritus\n",
      "15          Men at Arms                                      Detritus\n",
      "16         Feet of Clay                                      Detritus\n",
      "17                Jingo                                      Detritus\n",
      "18   The Fifth Elephant                                      Detritus\n",
      "19                Thud!                                      Detritus\n",
      "20      Guards! Guards!                     Cut-Me-Own-Throat Dibbler\n",
      "21      Moving Pictures                     Cut-Me-Own-Throat Dibbler\n",
      "22           Reaper Man                     Cut-Me-Own-Throat Dibbler\n",
      "23           Soul Music                     Cut-Me-Own-Throat Dibbler\n",
      "24            The Truth                     Cut-Me-Own-Throat Dibbler\n",
      "25          Night Watch                     Cut-Me-Own-Throat Dibbler\n",
      "26         Making Money                     Cut-Me-Own-Throat Dibbler\n",
      "27         Feet of Clay                                         Dorfl\n",
      "28         Feet of Clay                               Rufus Drumknott\n",
      "29                Jingo                               Rufus Drumknott\n",
      "30   The Fifth Elephant                               Rufus Drumknott\n",
      "31            The Truth                               Rufus Drumknott\n",
      "32          Night Watch                               Rufus Drumknott\n",
      "33         Going Postal                               Rufus Drumknott\n",
      "34         Making Money                               Rufus Drumknott\n",
      "35                Thud!                               Rufus Drumknott\n",
      "36   Unseen Academicals                               Rufus Drumknott\n",
      "37                Snuff                               Rufus Drumknott\n",
      "38        Raising Steam                               Rufus Drumknott\n",
      "39      Moving Pictures                                       Gaspode\n",
      "40          Men at Arms                                       Gaspode\n",
      "41   The Fifth Elephant                                       Gaspode\n",
      "42            The Truth                                       Gaspode\n",
      "43       Discworld Noir                                       Gaspode\n",
      "44      Guards! Guards!                        Carrot Ironfoundersson\n",
      "45          Men at Arms                        Carrot Ironfoundersson\n",
      "46         Feet of Clay                        Carrot Ironfoundersson\n",
      "47                Jingo                        Carrot Ironfoundersson\n",
      "48   The Fifth Elephant                        Carrot Ironfoundersson\n",
      "49            The Truth                        Carrot Ironfoundersson\n",
      "50        The Last Hero                        Carrot Ironfoundersson\n",
      "51          Night Watch                        Carrot Ironfoundersson\n",
      "52                Thud!                        Carrot Ironfoundersson\n",
      "53                Snuff                        Carrot Ironfoundersson\n",
      "54         Wyrd Sisters                              Leonard of Quirm\n",
      "55          Men at Arms                              Leonard of Quirm\n",
      "56                Jingo                              Leonard of Quirm\n",
      "57   The Fifth Elephant                              Leonard of Quirm\n",
      "58        The Last Hero                              Leonard of Quirm\n",
      "59       Discworld Noir                              Leonard of Quirm\n",
      "60         Feet of Clay                           Cheery Littlebottom\n",
      "61                Jingo                           Cheery Littlebottom\n",
      "62   The Fifth Elephant                           Cheery Littlebottom\n",
      "63                Thud!                           Cheery Littlebottom\n",
      "64         Watch Series                                   Nobby Nobbs\n",
      "65      Guards! Guards!                             Lady Sybil Ramkin\n",
      "66          Men at Arms                             Lady Sybil Ramkin\n",
      "67         Feet of Clay                             Lady Sybil Ramkin\n",
      "68                Jingo                             Lady Sybil Ramkin\n",
      "69   The Fifth Elephant                             Lady Sybil Ramkin\n",
      "70          Night Watch                             Lady Sybil Ramkin\n",
      "71                Thud!                             Lady Sybil Ramkin\n",
      "72                Snuff                             Lady Sybil Ramkin\n",
      "73          Men at Arms                                  Foul Ole Ron\n",
      "74         Feet of Clay                                  Foul Ole Ron\n",
      "75            Hogfather                                  Foul Ole Ron\n",
      "76                Jingo                                  Foul Ole Ron\n",
      "77            The Truth                                  Foul Ole Ron\n",
      "78           Reaper Man                                      Reg Shoe\n",
      "79          Watch books                                      Reg Shoe\n",
      "80         Feet of Clay                                     Mr. Slant\n",
      "81                Jingo                                     Mr. Slant\n",
      "82            The Truth                                     Mr. Slant\n",
      "83         Going Postal                                     Mr. Slant\n",
      "84         Making Money                                     Mr. Slant\n",
      "85          Men at Arms                            Angua von Überwald\n",
      "86         Feet of Clay                            Angua von Überwald\n",
      "87                Jingo                            Angua von Überwald\n",
      "88   The Fifth Elephant                            Angua von Überwald\n",
      "89          Night Watch                            Angua von Überwald\n",
      "90                Thud!                            Angua von Überwald\n",
      "91                Snuff                            Angua von Überwald\n",
      "92             Sourcery                        Lord Havelock Vetinari\n",
      "93      Guards! Guards!                        Lord Havelock Vetinari\n",
      "94      Moving Pictures                        Lord Havelock Vetinari\n",
      "95          Men at Arms                        Lord Havelock Vetinari\n",
      "96    Interesting Times                        Lord Havelock Vetinari\n",
      "97         Feet of Clay                        Lord Havelock Vetinari\n",
      "98   The Fifth Elephant                        Lord Havelock Vetinari\n",
      "99            The Truth                        Lord Havelock Vetinari\n",
      "100        Going Postal                        Lord Havelock Vetinari\n",
      "101               Thud!                        Lord Havelock Vetinari\n",
      "102        Making Money                        Lord Havelock Vetinari\n",
      "103  Unseen Academicals                        Lord Havelock Vetinari\n",
      "104       Raising Steam                        Lord Havelock Vetinari\n",
      "105     Guards! Guards!                                  Samuel Vimes\n",
      "106         Men at Arms                                  Samuel Vimes\n",
      "107        Feet of Clay                                  Samuel Vimes\n",
      "108               Jingo                                  Samuel Vimes\n",
      "109  The Fifth Elephant                                  Samuel Vimes\n",
      "110         Night Watch                                  Samuel Vimes\n",
      "111  Monstrous Regiment                                  Samuel Vimes\n",
      "112               Thud!                                  Samuel Vimes\n",
      "113     Where's My Cow?                                  Samuel Vimes\n",
      "114               Snuff                                  Samuel Vimes\n",
      "115       Raising Steam                                  Samuel Vimes\n",
      "116      Discworld Noir                                  Samuel Vimes\n",
      "117        Feet of Clay  Visit-the-Infidel-with-Explanatory-Pamphlets\n",
      "118               Jingo  Visit-the-Infidel-with-Explanatory-Pamphlets\n",
      "119           Hogfather  Visit-the-Infidel-with-Explanatory-Pamphlets\n",
      "120  The Fifth Elephant  Visit-the-Infidel-with-Explanatory-Pamphlets\n",
      "121               Thud!  Visit-the-Infidel-with-Explanatory-Pamphlets\n",
      "122         Men at Arms                                     Willikins\n",
      "123        Feet of Clay                                     Willikins\n",
      "124               Jingo                                     Willikins\n",
      "125  The Fifth Elephant                                     Willikins\n",
      "126         Night Watch                                     Willikins\n",
      "127               Thud!                                     Willikins\n",
      "128               Snuff                                     Willikins\n"
     ]
    }
   ],
   "source": [
    "scraper = Scraper()\n",
    "chars = scraper.scrap()\n",
    "data_f = make_dataframe(chars)\n",
    "print(data_f.to_string())\n"
   ]
  },
  {
   "cell_type": "markdown",
   "metadata": {
    "pycharm": {
     "name": "#%% md\n"
    }
   },
   "source": [
    "Count number of characters in Men at Arms"
   ]
  },
  {
   "cell_type": "code",
   "execution_count": 6,
   "metadata": {
    "pycharm": {
     "is_executing": false,
     "name": "#%%\n"
    }
   },
   "outputs": [
    {
     "name": "stdout",
     "output_type": "stream",
     "text": [
      "12\n"
     ]
    }
   ],
   "source": [
    "print(len(data_f[data_f['book'] == 'Men at Arms']))\n"
   ]
  }
 ],
 "metadata": {
  "kernelspec": {
   "display_name": "Python 3",
   "language": "python",
   "name": "python3"
  },
  "language_info": {
   "codemirror_mode": {
    "name": "ipython",
    "version": 3
   },
   "file_extension": ".py",
   "mimetype": "text/x-python",
   "name": "python",
   "nbconvert_exporter": "python",
   "pygments_lexer": "ipython3",
   "version": "3.7.4"
  },
  "pycharm": {
   "stem_cell": {
    "cell_type": "raw",
    "metadata": {
     "collapsed": false
    },
    "source": []
   }
  }
 },
 "nbformat": 4,
 "nbformat_minor": 1
}
